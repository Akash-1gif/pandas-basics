{
 "cells": [
  {
   "cell_type": "code",
   "execution_count": 5,
   "id": "a9a82dfb",
   "metadata": {},
   "outputs": [],
   "source": [
    "import pandas as pd\n",
    "import numpy as np"
   ]
  },
  {
   "cell_type": "code",
   "execution_count": 6,
   "id": "871587b7",
   "metadata": {},
   "outputs": [
    {
     "name": "stdout",
     "output_type": "stream",
     "text": [
      "10\n",
      "20\n",
      "30\n"
     ]
    }
   ],
   "source": [
    "#basic pandas commands\n",
    "#making Series data types\n",
    "labels=['a','b','c']\n",
    "my_list=[10,20,30]\n",
    "d={'a':10,'b':20,'c':30}\n",
    "a_s=pd.Series(d)\n",
    "for x in a_s:\n",
    "    print(x)"
   ]
  },
  {
   "cell_type": "code",
   "execution_count": 7,
   "id": "42c9d034",
   "metadata": {},
   "outputs": [
    {
     "data": {
      "text/plain": [
       "a    10\n",
       "b    20\n",
       "c    30\n",
       "dtype: int64"
      ]
     },
     "execution_count": 7,
     "metadata": {},
     "output_type": "execute_result"
    }
   ],
   "source": [
    "pd.Series(index=labels,data=my_list)"
   ]
  },
  {
   "cell_type": "code",
   "execution_count": 8,
   "id": "40e5699d",
   "metadata": {},
   "outputs": [
    {
     "name": "stdout",
     "output_type": "stream",
     "text": [
      "1\n"
     ]
    }
   ],
   "source": [
    "ser1=pd.Series([1,2,3,4],index=['US','UK','AUS','IND'])\n",
    "print(ser1['US'])"
   ]
  },
  {
   "cell_type": "code",
   "execution_count": 9,
   "id": "4d3b4368",
   "metadata": {},
   "outputs": [
    {
     "data": {
      "text/plain": [
       "IND     NaN\n",
       "RUS     NaN\n",
       "SWE     8.0\n",
       "UK     11.0\n",
       "US      7.0\n",
       "dtype: float64"
      ]
     },
     "execution_count": 9,
     "metadata": {},
     "output_type": "execute_result"
    }
   ],
   "source": [
    "#addition opf two series:\n",
    "s1=pd.Series([1,2,3,4],index=['US','UK','SWE','IND'])\n",
    "s2=pd.Series([6,9,5,6],index=['US','UK','SWE','RUS'])\n",
    "s1+s2"
   ]
  },
  {
   "cell_type": "code",
   "execution_count": 10,
   "id": "116ac93c",
   "metadata": {},
   "outputs": [
    {
     "name": "stdout",
     "output_type": "stream",
     "text": [
      "          W         X         Y         Z\n",
      "A  2.706850  0.628133  0.907969  0.503826\n",
      "B  0.651118 -0.319318 -0.848077  0.605965\n",
      "C -2.018168  0.740122  0.528813 -0.589001\n",
      "D  0.188695 -0.758872 -0.933237  0.955057\n",
      "E  0.190794  1.978757  2.605967  0.683509\n",
      "0.7401220570561068\n"
     ]
    }
   ],
   "source": [
    "#exploring DataFrames:\n",
    "from numpy.random import randn\n",
    "np.random.seed(101)\n",
    "df=pd.DataFrame(randn(5,4),index='A B C D E'.split(),columns='W X Y Z'.split())\n",
    "print(df)\n",
    "print(df['X']['C'])"
   ]
  },
  {
   "cell_type": "code",
   "execution_count": 11,
   "id": "88416d8c",
   "metadata": {},
   "outputs": [
    {
     "name": "stdout",
     "output_type": "stream",
     "text": [
      "A    2.706850\n",
      "B    0.651118\n",
      "C   -2.018168\n",
      "D    0.188695\n",
      "E    0.190794\n",
      "Name: W, dtype: float64\n",
      "          X         W\n",
      "A  0.628133  2.706850\n",
      "B -0.319318  0.651118\n",
      "C  0.740122 -2.018168\n",
      "D -0.758872  0.188695\n",
      "E  1.978757  0.190794\n"
     ]
    }
   ],
   "source": [
    "print(df['W'])\n",
    "print(df[['X','W']])"
   ]
  },
  {
   "cell_type": "code",
   "execution_count": 12,
   "id": "0a2bee71",
   "metadata": {},
   "outputs": [
    {
     "name": "stdout",
     "output_type": "stream",
     "text": [
      "          W         X         Y         Z        AZ\n",
      "A  2.706850  0.628133  0.907969  0.503826  1.798880\n",
      "B  0.651118 -0.319318 -0.848077  0.605965  1.499195\n",
      "C -2.018168  0.740122  0.528813 -0.589001 -2.546982\n",
      "D  0.188695 -0.758872 -0.933237  0.955057  1.121933\n",
      "E  0.190794  1.978757  2.605967  0.683509 -2.415173\n",
      "\n",
      "          W         X         Y         Z        AZ\n",
      "A  2.706850  0.628133  0.907969  0.503826  3.235971\n",
      "B  0.651118 -0.319318 -0.848077  0.605965  2.247585\n",
      "C -2.018168  0.740122  0.528813 -0.589001  6.487116\n",
      "D  0.188695 -0.758872 -0.933237  0.955057  1.258733\n",
      "E  0.190794  1.978757  2.605967  0.683509  5.833060\n"
     ]
    }
   ],
   "source": [
    "#creating a new column\n",
    "df['AZ']=df['W']-df['Y']\n",
    "print(df)\n",
    "print()\n",
    "df['AZ']=df['AZ']*df['AZ']\n",
    "print(df)"
   ]
  },
  {
   "cell_type": "code",
   "execution_count": 13,
   "id": "c1dde34d",
   "metadata": {},
   "outputs": [
    {
     "name": "stdout",
     "output_type": "stream",
     "text": [
      "          W         X         Y         Z\n",
      "A  2.706850  0.628133  0.907969  0.503826\n",
      "B  0.651118 -0.319318 -0.848077  0.605965\n",
      "C -2.018168  0.740122  0.528813 -0.589001\n",
      "D  0.188695 -0.758872 -0.933237  0.955057\n",
      "E  0.190794  1.978757  2.605967  0.683509\n"
     ]
    }
   ],
   "source": [
    "#removing a column\n",
    "df=df.drop('AZ',axis=1)\n",
    "print(df)"
   ]
  },
  {
   "cell_type": "code",
   "execution_count": 14,
   "id": "2503a2dd",
   "metadata": {},
   "outputs": [
    {
     "name": "stdout",
     "output_type": "stream",
     "text": [
      "          W         X         Y         Z\n",
      "B  0.651118 -0.319318 -0.848077  0.605965\n",
      "C -2.018168  0.740122  0.528813 -0.589001\n",
      "D  0.188695 -0.758872 -0.933237  0.955057\n",
      "E  0.190794  1.978757  2.605967  0.683509\n",
      "          W         X         Y         Z\n",
      "B  0.651118 -0.319318 -0.848077  0.605965\n",
      "C -2.018168  0.740122  0.528813 -0.589001\n",
      "D  0.188695 -0.758872 -0.933237  0.955057\n",
      "E  0.190794  1.978757  2.605967  0.683509\n"
     ]
    }
   ],
   "source": [
    "#removing a row:\n",
    "df=df.drop('A',axis=0)\n",
    "print(df)\n",
    "print(df)"
   ]
  },
  {
   "cell_type": "code",
   "execution_count": 18,
   "id": "b6065e4b",
   "metadata": {},
   "outputs": [
    {
     "name": "stdout",
     "output_type": "stream",
     "text": [
      "       W      X      Y      Z\n",
      "B   True  False  False   True\n",
      "C  False   True   True  False\n",
      "D   True  False  False   True\n",
      "E   True   True   True   True\n",
      "\n",
      "          W         X         Y         Z\n",
      "B  0.651118       NaN       NaN  0.605965\n",
      "C       NaN  0.740122  0.528813       NaN\n",
      "D  0.188695       NaN       NaN  0.955057\n",
      "E  0.190794  1.978757  2.605967  0.683509\n"
     ]
    }
   ],
   "source": [
    "#conditional selection\n",
    "print(df>0)\n",
    "print()\n",
    "m=df[df>0]\n",
    "print(m)"
   ]
  },
  {
   "cell_type": "code",
   "execution_count": 20,
   "id": "febe0fac",
   "metadata": {},
   "outputs": [
    {
     "name": "stdout",
     "output_type": "stream",
     "text": [
      "  index         W         X         Y         Z\n",
      "0     B  0.651118 -0.319318 -0.848077  0.605965\n",
      "1     C -2.018168  0.740122  0.528813 -0.589001\n",
      "2     D  0.188695 -0.758872 -0.933237  0.955057\n",
      "3     E  0.190794  1.978757  2.605967  0.683509\n"
     ]
    }
   ],
   "source": [
    "df=df.reset_index()\n",
    "print(df)"
   ]
  },
  {
   "cell_type": "code",
   "execution_count": null,
   "id": "27e6cd46",
   "metadata": {},
   "outputs": [],
   "source": []
  },
  {
   "cell_type": "code",
   "execution_count": null,
   "id": "66f92359",
   "metadata": {},
   "outputs": [],
   "source": []
  }
 ],
 "metadata": {
  "kernelspec": {
   "display_name": "Python 3 (ipykernel)",
   "language": "python",
   "name": "python3"
  },
  "language_info": {
   "codemirror_mode": {
    "name": "ipython",
    "version": 3
   },
   "file_extension": ".py",
   "mimetype": "text/x-python",
   "name": "python",
   "nbconvert_exporter": "python",
   "pygments_lexer": "ipython3",
   "version": "3.9.12"
  }
 },
 "nbformat": 4,
 "nbformat_minor": 5
}
